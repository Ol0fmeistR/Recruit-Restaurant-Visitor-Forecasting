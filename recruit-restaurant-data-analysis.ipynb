{
 "cells": [
  {
   "cell_type": "markdown",
   "metadata": {
    "_cell_guid": "a32c2189-93de-4309-afbe-11fbf742ffac",
    "_uuid": "3df362f5bcfd9ece9cf9a9128270ac5fd0889e63"
   },
   "source": [
    "# **Recruit Restaurant Data Analysis**\n",
    "___\n",
    "This notebook aims at providing a first glance at the data provided for the \"Recruit Restaurant Visitor Forecast\" challenge. The purpose of this competition is to predict the number of people that will make reservations during 5 weeks, from April 2017 to May 2017. Historical data for a period $\\sim$1 year prior to April 2017 is provided in order get some insights on customers' habits.\n",
    "\n",
    "## 1. Load the data\n",
    "\n",
    "First step will be to load all the necessary packages and libraries"
   ]
  },
  {
   "cell_type": "code",
   "execution_count": 3,
   "metadata": {
    "_cell_guid": "2a58ac19-a8a2-433d-8df9-7920539c77c9",
    "_kg_hide-input": true,
    "_uuid": "88ff83c227d9c4ad51398af33cbc327bd8185314",
    "execution": {
     "iopub.execute_input": "2022-06-01T16:49:34.367317Z",
     "iopub.status.busy": "2022-06-01T16:49:34.366680Z",
     "iopub.status.idle": "2022-06-01T16:49:34.380982Z",
     "shell.execute_reply": "2022-06-01T16:49:34.380184Z",
     "shell.execute_reply.started": "2022-06-01T16:49:34.367238Z"
    }
   },
   "outputs": [],
   "source": [
    "import numpy as np\n",
    "import datetime\n",
    "import pandas as pd\n",
    "import matplotlib as mpl\n",
    "import matplotlib.pyplot as plt\n",
    "import seaborn as sns\n",
    "import math, warnings\n",
    "from mpl_toolkits.basemap import Basemap\n",
    "plt.rcParams[\"patch.force_edgecolor\"] = True\n",
    "plt.style.use('fivethirtyeight')\n",
    "mpl.rc('patch', edgecolor = 'dimgray', linewidth=1)\n",
    "from IPython.core.interactiveshell import InteractiveShell\n",
    "from IPython.display import display, HTML\n",
    "InteractiveShell.ast_node_interactivity = \"last_expr\"\n",
    "pd.options.display.max_columns = 50\n",
    "%matplotlib inline\n",
    "warnings.filterwarnings('ignore')"
   ]
  },
  {
   "cell_type": "markdown",
   "metadata": {
    "_cell_guid": "22507366-7c19-43a6-a1d4-d33e820c309b",
    "_uuid": "f63f42426e8256ecd8912b4af7ad35ddaf89fe2d"
   },
   "source": [
    "Files provided for the competition are listed below:"
   ]
  },
  {
   "cell_type": "code",
   "execution_count": 4,
   "metadata": {
    "_cell_guid": "4c66d180-f673-4770-9d42-c2d0aa819ba0",
    "_kg_hide-input": true,
    "_uuid": "21c8d2bd8972e6cf10890a056d823b3412929627",
    "execution": {
     "iopub.execute_input": "2022-06-01T16:49:42.784410Z",
     "iopub.status.busy": "2022-06-01T16:49:42.783775Z",
     "iopub.status.idle": "2022-06-01T16:49:42.818788Z",
     "shell.execute_reply": "2022-06-01T16:49:42.818067Z",
     "shell.execute_reply.started": "2022-06-01T16:49:42.784334Z"
    }
   },
   "outputs": [],
   "source": [
    "from subprocess import check_output\n",
    "print(check_output([\"ls\", \"../input\"]).decode(\"utf8\"))\n",
    "file_list = check_output([\"ls\", \"../input\"]).decode(\"utf8\")\n",
    "file_list = file_list.strip().split('\\n')"
   ]
  },
  {
   "cell_type": "markdown",
   "metadata": {
    "_cell_guid": "b3a65105-1518-4b98-8264-a561819ce739",
    "_uuid": "6e6b8c108bcf451c8fc0967fdbc502a747c96150"
   },
   "source": [
    "As a first step, it would be good to examine the variable types and the number of null values. Variables corresponding to date-time data will be converted to `datetime` format for the purpose of our analysis."
   ]
  },
  {
   "cell_type": "code",
   "execution_count": 5,
   "metadata": {
    "_cell_guid": "31f33ad5-d7d9-457e-bd51-e41be0a83f4c",
    "_kg_hide-input": true,
    "_uuid": "56d4fb6d711f32c6df61d1bebfc2ae8cab35c68c",
    "execution": {
     "iopub.execute_input": "2022-06-01T16:49:48.195426Z",
     "iopub.status.busy": "2022-06-01T16:49:48.194746Z",
     "iopub.status.idle": "2022-06-01T16:49:48.204208Z",
     "shell.execute_reply": "2022-06-01T16:49:48.203206Z",
     "shell.execute_reply.started": "2022-06-01T16:49:48.195370Z"
    }
   },
   "outputs": [],
   "source": [
    "def get_info(df):\n",
    "    print('Shape:',df.shape)\n",
    "    print('Size: {:5.2f} MB'.format(df.memory_usage().sum()/1024**2))\n",
    "    tab_info=pd.DataFrame(df.dtypes).T.rename(index={0:'column type'})\n",
    "    tab_info=tab_info.append(pd.DataFrame(df.isnull().sum()).T.rename(index={0:'null values'}))\n",
    "    tab_info=tab_info.append(pd.DataFrame(df.isnull().sum()/df.shape[0]*100).T.\n",
    "                         rename(index={0:'null values (%)'}))\n",
    "    display(tab_info)\n",
    "    display(df[:5])"
   ]
  },
  {
   "cell_type": "code",
   "execution_count": 6,
   "metadata": {
    "_cell_guid": "7f3f0440-296b-459c-a8b2-db9dd52d1c55",
    "_kg_hide-input": true,
    "_kg_hide-output": true,
    "_uuid": "585e457e772b81cc542d335afd8a6b48f6af8ca9",
    "execution": {
     "iopub.execute_input": "2022-06-01T16:49:52.311642Z",
     "iopub.status.busy": "2022-06-01T16:49:52.310976Z",
     "iopub.status.idle": "2022-06-01T16:49:58.691967Z",
     "shell.execute_reply": "2022-06-01T16:49:58.691266Z",
     "shell.execute_reply.started": "2022-06-01T16:49:52.311591Z"
    }
   },
   "outputs": [],
   "source": [
    "#Display info on the csv files along with their file sizes\n",
    "for index, file in enumerate(file_list):\n",
    "    var_name = file.rstrip('.csv')\n",
    "    print(file)\n",
    "    locals()[var_name] = pd.read_csv('../input/'+file)\n",
    "    \n",
    "    #convert to datetime\n",
    "    for col in locals()[var_name].columns:\n",
    "        if col.endswith('datetime') or col.endswith('date'):\n",
    "            locals()[var_name][col] = pd.to_datetime(locals()[var_name][col])\n",
    "    #get info\n",
    "    get_info(locals()[var_name])"
   ]
  },
  {
   "cell_type": "markdown",
   "metadata": {
    "_cell_guid": "dea4db6b-9812-434f-970a-37049f8ce60d",
    "_uuid": "61188e9428dca7ea1a5f8fd23a9550face71b16e"
   },
   "source": [
    "A brief description of the files based on information provided in the competition's home page:\n",
    "- **air_reserve.csv, hpg_reserve.csv**: reservations made in the air (*AirREGI*) or hpg (*Hot Pepper Gourmet*) systems\n",
    "- **air_store_info.csv, hpg_store_info.csv**: information about *air* and *hpg* restaurants\n",
    "- **store_id_relation.csv**: link the restaurants ids of the air and hpg systems\n",
    "- **air_visit_data.csv**: historical visit data for the air restaurants\n",
    "- **date_info.csv**: information about the calendar dates in the dataset\n",
    "\n",
    "___\n",
    "## 2. Restaurant locations\n",
    "\n",
    "Putting the restaurant locations on a map. The plot contains data from both the hpg and air store reserves tables. However, it is important to keep in mind that the locations are only approximations in order to keep the data anonymous."
   ]
  },
  {
   "cell_type": "code",
   "execution_count": 7,
   "metadata": {
    "_cell_guid": "745efb00-65fd-47e0-a9e4-e454a7c03402",
    "_kg_hide-input": true,
    "_uuid": "c0fe1102042022a583b3f58c9ba662c19a3da9a4",
    "execution": {
     "iopub.execute_input": "2022-06-01T16:50:05.494952Z",
     "iopub.status.busy": "2022-06-01T16:50:05.494331Z",
     "iopub.status.idle": "2022-06-01T16:50:05.510098Z",
     "shell.execute_reply": "2022-06-01T16:50:05.509295Z",
     "shell.execute_reply.started": "2022-06-01T16:50:05.494885Z"
    }
   },
   "outputs": [],
   "source": [
    "def draw_map(df, title):\n",
    "    plt.figure(figsize=(11,6))\n",
    "    map = Basemap(resolution='i',llcrnrlon=127, urcrnrlon=147,\n",
    "                  llcrnrlat=29, urcrnrlat=47, lat_0=0, lon_0=0,)\n",
    "    map.shadedrelief()\n",
    "    map.drawcoastlines()\n",
    "    map.drawcountries(linewidth = 3)\n",
    "    map.drawstates(color='0.3')\n",
    "    parallels = np.arange(0.,360,10.,)\n",
    "    map.drawparallels(parallels, labels = [True for s in range(len(parallels))])\n",
    "    meridians = np.arange(0.,360,10.,)\n",
    "    map.drawmeridians(meridians, labels = [True for s in range(len(meridians))])\n",
    "    \n",
    "    #visualizing the locations on a map\n",
    "    for index, (y,x) in df[['latitude','longitude']].iterrows():\n",
    "        x, y = map(x, y)\n",
    "        map.plot(x, y, marker='o', markersize = 5, markeredgewidth = 1, color = 'red',\n",
    "                 markeredgecolor='k')\n",
    "    plt.title(title, y = 1.05)"
   ]
  },
  {
   "cell_type": "code",
   "execution_count": 9,
   "metadata": {
    "_cell_guid": "32521abf-3c4d-47e6-9649-084ec0b36bc7",
    "_kg_hide-input": true,
    "_uuid": "e13a81d212b7f8359f14f08a0562ba29eccdb6e9",
    "execution": {
     "iopub.execute_input": "2022-06-01T16:50:51.017095Z",
     "iopub.status.busy": "2022-06-01T16:50:51.016766Z",
     "iopub.status.idle": "2022-06-01T16:50:51.033239Z",
     "shell.execute_reply": "2022-06-01T16:50:51.031682Z",
     "shell.execute_reply.started": "2022-06-01T16:50:51.017058Z"
    }
   },
   "outputs": [],
   "source": [
    "#plotting location data from the air_store_info table\n",
    "airstore = pd.read_csv(\"../input/air_store_info.csv.zip\")\n",
    "draw_map(airstore, 'air store restaurant locations')"
   ]
  },
  {
   "cell_type": "markdown",
   "metadata": {
    "_cell_guid": "8d4ee3e6-c700-4288-9a48-a750add133d2",
    "_uuid": "f3879f3ca698543a6d62bfb816da7834d4dd0c39"
   },
   "source": [
    "___\n",
    "## 3. Reservations against visists\n",
    "\n",
    "Defining a utility class that I will subsequently use to generate all the plots.\n"
   ]
  },
  {
   "cell_type": "code",
   "execution_count": null,
   "metadata": {
    "_cell_guid": "ead8cf1a-5add-40f2-8dc2-0666be04cd2a",
    "_kg_hide-input": true,
    "_uuid": "41e01e4025fd2f830fc6b41797b489bc90f06242"
   },
   "outputs": [],
   "source": [
    "class Figure_style():\n",
    "    #initializing\n",
    "    def __init__(self, size_x = 11, size_y = 5, nrows = 1, ncols = 1):\n",
    "        sns.set_style(\"white\")\n",
    "        sns.set_context(\"notebook\", font_scale=1.2, rc={\"lines.linewidth\": 2.5})\n",
    "        self.fig, axs = plt.subplots(nrows = nrows, ncols = ncols, figsize=(size_x,size_y,))\n",
    "        \n",
    "        #converting self.axs to 2D array\n",
    "        if nrows == 1 and ncols == 1:\n",
    "            self.axs = np.reshape(axs, (1, -1))\n",
    "        elif nrows == 1:\n",
    "            self.axs = np.reshape(axs, (1, -1))\n",
    "        elif ncols == 1:\n",
    "            self.axs = np.reshape(axs, (-1, 1))\n",
    "   \n",
    "    def pos_update(self, ix, iy):\n",
    "        self.ix, self.iy = ix, iy\n",
    "    \n",
    "    def style(self):\n",
    "        self.axs[self.ix, self.iy].spines['right'].set_visible(False)\n",
    "        self.axs[self.ix, self.iy].spines['top'].set_visible(False)\n",
    "        self.axs[self.ix, self.iy].yaxis.grid(color='lightgray', linestyle=':')\n",
    "        self.axs[self.ix, self.iy].xaxis.grid(color='lightgray', linestyle=':')\n",
    "        self.axs[self.ix, self.iy].tick_params(axis='both', which='major',\n",
    "                                               labelsize=10, size = 5)\n",
    "    \n",
    "    #apply legends to the plots\n",
    "    def draw_legend(self, location='upper right'):\n",
    "        legend = self.axs[self.ix, self.iy].legend(loc = location, shadow=True,\n",
    "                                        facecolor = 'g', frameon = True)\n",
    "        legend.get_frame().set_facecolor('whitesmoke')\n",
    "    \n",
    "    def cust_plot(self, x, y, color='b', linestyle='-', linewidth=1, marker=None, label=''):\n",
    "        if marker:\n",
    "            markerfacecolor, marker, markersize = marker[:]\n",
    "            self.axs[self.ix, self.iy].plot(x, y, color = color, linestyle = linestyle,\n",
    "                                linewidth = linewidth, marker = marker, label = label,\n",
    "                                markerfacecolor = markerfacecolor, markersize = markersize)\n",
    "        else:\n",
    "            self.axs[self.ix, self.iy].plot(x, y, color = color, linestyle = linestyle,\n",
    "                                        linewidth = linewidth, label=label)\n",
    "        self.fig.autofmt_xdate()\n",
    "    \n",
    "    #plotting dates\n",
    "    def cust_plot_date(self, x, y, color='lightblue', linestyle='-',\n",
    "                       linewidth=1, markeredge=False, label=''):\n",
    "        markeredgewidth = 1 if markeredge else 0\n",
    "        self.axs[self.ix, self.iy].plot_date(x, y, color='lightblue', markeredgecolor='grey',\n",
    "                                  markeredgewidth = markeredgewidth, label=label)\n",
    "    \n",
    "    #scatterplots\n",
    "    def cust_scatter(self, x, y, color = 'lightblue', markeredge = False, label=''):\n",
    "        markeredgewidth = 1 if markeredge else 0\n",
    "        self.axs[self.ix, self.iy].scatter(x, y, color=color,  edgecolor='grey',\n",
    "                                  linewidths = markeredgewidth, label=label)    \n",
    "    #setting xlabels\n",
    "    def set_xlabel(self, label, fontsize = 14):\n",
    "        self.axs[self.ix, self.iy].set_xlabel(label, fontsize = fontsize)\n",
    "        \n",
    "    #setting ylabels\n",
    "    def set_ylabel(self, label, fontsize = 14):\n",
    "        self.axs[self.ix, self.iy].set_ylabel(label, fontsize = fontsize)\n",
    "        \n",
    "    #setting x-limits\n",
    "    def set_xlim(self, lim_inf, lim_sup):\n",
    "        self.axs[self.ix, self.iy].set_xlim([lim_inf, lim_sup])\n",
    "        \n",
    "    #setting y-limits\n",
    "    def set_ylim(self, lim_inf, lim_sup):\n",
    "        self.axs[self.ix, self.iy].set_ylim([lim_inf, lim_sup])  "
   ]
  },
  {
   "cell_type": "markdown",
   "metadata": {
    "_cell_guid": "c3c8fb73-a5fe-4556-afd3-2094a01a2813",
    "_uuid": "9b0b059a3b3f3a7e207d5c61336ab28c0861f337"
   },
   "source": [
    "Selecting restaurant id's which are common to both the hpg reserve and air store databases."
   ]
  },
  {
   "cell_type": "code",
   "execution_count": null,
   "metadata": {
    "_cell_guid": "57960f5c-dd82-47f4-8036-92cc6754d208",
    "_kg_hide-input": true,
    "_uuid": "eea69cec349f067a96c30f165bc9832489c5a932"
   },
   "outputs": [],
   "source": [
    "#importing the store_id_relation and hpg_reserve data\n",
    "store_id_relation = pd.read_csv(\"../input/store_id_relation.csv.zip\")\n",
    "hpg_reserve = pd.read_csv(\"../input/hpg_reserve.csv.zip\")\n",
    "\n",
    "convert_hpg = {k:v for k,v in list(zip(store_id_relation['hpg_store_id'].values,\n",
    "                                       store_id_relation['air_store_id'].values))}\n",
    "hpg_reserve[\"hpg_store_id\"].replace(convert_hpg, inplace = True)\n",
    "hpg_reserve = hpg_reserve[hpg_reserve['hpg_store_id'].str.startswith('air')]"
   ]
  },
  {
   "cell_type": "markdown",
   "metadata": {
    "_cell_guid": "2f4598fc-566b-47eb-a347-bbb6959618cc",
    "_uuid": "85971f0b1a24cb5ad95779a3fbcc50f3706e9c87"
   },
   "source": [
    "Creating a new feature that indicate the delay between the reservation and the visit dates and merge the **air_reserve** and **hpg_reserve** dataframes in the **total_reserve** dataframe:"
   ]
  },
  {
   "cell_type": "code",
   "execution_count": null,
   "metadata": {
    "_cell_guid": "9f422b25-0b56-4e84-9398-ad77885e62a6",
    "_kg_hide-input": true,
    "_uuid": "923aaae86e0a0dcf7b321b83335b057b45b06839"
   },
   "outputs": [],
   "source": [
    "def delta_reservation(df):\n",
    "    df['delta_reservation'] = pd.to_datetime(df['visit_datetime']) - pd.to_datetime(df['reserve_datetime'])\n",
    "    df['delta_2days'] = df['delta_reservation'].apply(lambda x: int(x.days < 2))\n",
    "    df['delta_7days'] = df['delta_reservation'].apply(lambda x: int(2 <= x.days < 7))\n",
    "    df['delta_long'] = df['delta_reservation'].apply(lambda x: int(x.days >= 7))\n",
    "    return df\n",
    "\n",
    "air_reserve = pd.read_csv(\"../input/air_reserve.csv.zip\")\n",
    "air_reserve = delta_reservation(air_reserve)\n",
    "hpg_reserve = delta_reservation(hpg_reserve)\n",
    "\n",
    "air_reserve.rename(columns = {'air_store_id':'store_id'}, inplace = True)\n",
    "hpg_reserve.rename(columns = {'hpg_store_id':'store_id'}, inplace = True)\n",
    "total_reserve = pd.concat([air_reserve, hpg_reserve])\n",
    "total_reserve['date'] = total_reserve['visit_datetime'].apply(lambda x:x.date())"
   ]
  },
  {
   "cell_type": "markdown",
   "metadata": {
    "_cell_guid": "d7bd0d02-efc8-4b51-b954-e19ba5466c20",
    "_uuid": "3c8c8ef20ff6b1ebaddfd4f8d49072685a8b35df"
   },
   "source": [
    "Considering the \"air\" restaurants, the **total_reserve** and **air_visit_data** dataframes gives info on the reservations and number of visits that were previously made. Taking a look at the number of unique restaurants in each dataframe:"
   ]
  },
  {
   "cell_type": "code",
   "execution_count": null,
   "metadata": {
    "_cell_guid": "11f57eed-d2bd-4f1f-96bb-337a8d47546b",
    "_kg_hide-input": true,
    "_uuid": "4ef052e39bb6153bf48422654779c737a9078423"
   },
   "outputs": [],
   "source": [
    "list_visit_ids   = air_visit_data['air_store_id'].unique()\n",
    "list_reserve_ids = total_reserve['store_id'].unique()\n",
    "print(\"nb. of restaurants visited: {}\".format(len(list_visit_ids)))\n",
    "print(\"nb. of restaurants with reservations: {}\".format(len(list_reserve_ids)))\n",
    "print(\"intersections of ids: {}\".format(len(set(list_visit_ids).intersection(set(list_reserve_ids)))))"
   ]
  },
  {
   "cell_type": "markdown",
   "metadata": {
    "_cell_guid": "812204ef-402e-4a25-9e38-cf4a12021fe8",
    "_uuid": "0098eb280761cfaaba38f4db15941d464c05c37f"
   },
   "source": [
    "Around ~ 500 restaurants don't have any info on reservations.\n",
    "\n",
    "### 3.1 A global view of all \"air\" restaurants\n",
    "\n",
    "First, let's consider the overall visits and reservations made in the \"air\" restaurants."
   ]
  },
  {
   "cell_type": "code",
   "execution_count": null,
   "metadata": {
    "_cell_guid": "ae6df6ac-45dd-4179-975d-7be81f1ecf49",
    "_kg_hide-input": true,
    "_uuid": "4081ea537157c7ba9ccd762264824269292fe565"
   },
   "outputs": [],
   "source": [
    "df1 = total_reserve[['date', 'reserve_visitors']].groupby('date').sum().reset_index()\n",
    "df2 = air_visit_data.groupby('visit_date').sum().reset_index()\n",
    "\n",
    "fig1 = Figure_style(11, 5, 1, 1)\n",
    "fig1.pos_update(0, 0)\n",
    "fig1.cust_plot(df2['visit_date'], df2['visitors'], linestyle='-', label = 'nb. of visits')\n",
    "fig1.cust_plot(df1['date'], df1['reserve_visitors'], color = 'r', linestyle='-', label = 'nb. of reservations')\n",
    "fig1.style() \n",
    "fig1.draw_legend(location = 'upper left')\n",
    "fig1.set_ylabel('Visitors', fontsize = 14)\n",
    "fig1.set_xlabel('Date', fontsize = 14)\n",
    "\n",
    "#limits\n",
    "date_1 = datetime.datetime(2015,12,1)\n",
    "date_2 = datetime.datetime(2017,6,1)\n",
    "fig1.set_xlim(date_1, date_2)\n",
    "fig1.set_ylim(-50, 25000)"
   ]
  },
  {
   "cell_type": "markdown",
   "metadata": {
    "_cell_guid": "5973616a-5ea5-47c4-a49a-1d9cb8664a14",
    "_uuid": "435059a3695dbc2dd6e7d5d389d48723caa740b2"
   },
   "source": [
    "Here we can note a few things:\n",
    "- the number of reservations only account for a small fraction of the total number of visits (typically a factor 10). This partly comes from the fact that only ~1/3 of the total number of restaurants visited are present in the **total_reserve** dataframe. Additionally, many clients will probably go directly to the restaurants without making a reservation beforehand.\n",
    "- another interesting thing to note is that there is a clear high frequency peridocity and without looking at the data in details, we can infer that this periodicity arise from the day of the week, since it seems quite logical that the restaurant visits increases during the week-end.\n",
    "- finally, **_we see that for the dates that correspond to the test set_**, the number of visits is quite low: this point will be adressed later but we can infer that for the 5 weeks covered by the test set, **_we don't have the data that deal with the 'last minute' reservations._**\n",
    "\n",
    "___\n",
    "### 3.2  Visualizing for a few select restaurants\n",
    "\n",
    "Now, we shall examine the same thing but for a few selected restaurants.\n",
    "\n",
    "#### 3.2.1 Case 1: the ideal case\n",
    "\n",
    "We first select a restaurant in the **air_reserve** dataframe and compare the number of visits and number of reservations:"
   ]
  },
  {
   "cell_type": "code",
   "execution_count": null,
   "metadata": {
    "_cell_guid": "a9a516a3-46f3-4d8a-9c1e-b2120ad3b07a",
    "_uuid": "9a9b319e6b4d6757e6e3e6eec694b18cbe2b06f2"
   },
   "outputs": [],
   "source": [
    "restaurant_id = air_reserve['store_id'][0]"
   ]
  },
  {
   "cell_type": "code",
   "execution_count": null,
   "metadata": {
    "_cell_guid": "4b4577be-b401-4730-ae41-34c9a2c153b6",
    "_kg_hide-input": true,
    "_uuid": "e8608602c411d0382aa9e09a031e1ab80da3e9c2"
   },
   "outputs": [],
   "source": [
    "df2 = air_visit_data[air_visit_data['air_store_id'] == restaurant_id]\n",
    "df0 = total_reserve[total_reserve['store_id'] == restaurant_id]\n",
    "df1 = df0[['date', 'reserve_visitors']].groupby('date').sum().reset_index()"
   ]
  },
  {
   "cell_type": "code",
   "execution_count": null,
   "metadata": {
    "_cell_guid": "30283796-fd8b-4dea-89f6-5ae1cdd68239",
    "_kg_hide-input": true,
    "_uuid": "96f70894b62d08c30265369d3b190234a245205c"
   },
   "outputs": [],
   "source": [
    "fig1 = Figure_style(11, 5, 1, 1)\n",
    "fig1.pos_update(0, 0)\n",
    "fig1.cust_plot(df2['visit_date'], df2['visitors'], linestyle='-', label = 'nb. of visits')\n",
    "fig1.cust_plot(df1['date'], df1['reserve_visitors'], color = 'r', linestyle='-', label = 'nb. of reservations')\n",
    "fig1.style() \n",
    "fig1.draw_legend(location = 'upper left')\n",
    "fig1.set_ylabel('Visitors', fontsize = 14)\n",
    "fig1.set_xlabel('Date', fontsize = 14)\n",
    "\n",
    "#limits\n",
    "date_1 = datetime.datetime(2015,12,21)\n",
    "date_2 = datetime.datetime(2017,6,1)\n",
    "fig1.set_xlim(date_1, date_2)\n",
    "fig1.set_ylim(-3, 39)"
   ]
  },
  {
   "cell_type": "markdown",
   "metadata": {
    "_cell_guid": "465766c9-259b-4ce6-b50c-afde22b92a58",
    "_uuid": "a5eceb5968dd51f45b42298b2c4d3885062af3b4"
   },
   "source": [
    "Contrary to what we have seen so far, the number of reservations closely follows the numbers of visits in this case (when the reservations are available).\n",
    "\n",
    "#### 3.2.2 Case 2\n",
    "\n",
    "We select a second restaurant and proceed as before (except that I zoom on the data from Nov. 2016 to May 2017):"
   ]
  },
  {
   "cell_type": "code",
   "execution_count": null,
   "metadata": {
    "_cell_guid": "f4b94714-4337-4490-b100-0159182469dd",
    "_uuid": "6f04430b26f9a4a5c07fa5972b4010c9bb1610c1"
   },
   "outputs": [],
   "source": [
    "restaurant_id = air_reserve['store_id'][2]"
   ]
  },
  {
   "cell_type": "code",
   "execution_count": null,
   "metadata": {
    "_cell_guid": "bdb806d2-d84e-4cbc-a5b4-cd816dcd69b8",
    "_kg_hide-input": true,
    "_uuid": "42879961b9a03eb8ef50cba6b5ec62e6692d9183"
   },
   "outputs": [],
   "source": [
    "df2 = air_visit_data[air_visit_data['air_store_id'] == restaurant_id]\n",
    "df0 = total_reserve[total_reserve['store_id'] == restaurant_id]\n",
    "df1 = df0[['date', 'reserve_visitors']].groupby('date').sum().reset_index()"
   ]
  },
  {
   "cell_type": "code",
   "execution_count": null,
   "metadata": {
    "_cell_guid": "07ea1a20-38b2-4d54-b463-f4cf9f9aa2e5",
    "_kg_hide-input": true,
    "_uuid": "b740344dedf5449d70b22fddb2832d4f5e238406"
   },
   "outputs": [],
   "source": [
    "fig1 = Figure_style(11, 5, 1, 1)\n",
    "fig1.pos_update(0, 0)\n",
    "fig1.cust_plot(df2['visit_date'], df2['visitors'], linestyle='-', label = 'nb. of visits')\n",
    "fig1.cust_plot(df1['date'], df1['reserve_visitors'], color = 'r', linestyle='-',\n",
    "               marker = ['r', 'o', 5], label = 'nb. of reservations')\n",
    "fig1.style() \n",
    "fig1.draw_legend(location = 'upper left')\n",
    "fig1.set_ylabel('Visitors', fontsize = 14)\n",
    "fig1.set_xlabel('Date', fontsize = 14)\n",
    "\n",
    "#limits\n",
    "date_1 = datetime.datetime(2016,11,1)\n",
    "date_2 = datetime.datetime(2017,5,1)\n",
    "fig1.set_xlim(date_1, date_2)\n",
    "fig1.set_ylim(-3, 45)"
   ]
  },
  {
   "cell_type": "markdown",
   "metadata": {
    "_cell_guid": "c9f5e7d7-9b7f-4dce-b544-961efdc87b1a",
    "_uuid": "7b66038e0ade12b935fa359dd3debf63d16199b7"
   },
   "source": [
    "Here, we see that number of visits *usually*  exceeds the number of reservations.\n",
    "\n",
    "Hence, we will be faced with two categories of restaurants: for some restaurants, it will be easy to predict the number of visitors since they will only serve people that reserved beforehand. Other restaurants will on the contrary serve everybody.\n",
    "\n",
    "### 3.3 Test set reservations\n",
    "\n",
    "As commented earlier, there's a lack of information for the test set reservations. This is can be clearly seen in the graph below:"
   ]
  },
  {
   "cell_type": "code",
   "execution_count": null,
   "metadata": {
    "_cell_guid": "563a9c69-b158-413b-932a-2dfd0019ebb7",
    "_kg_hide-input": true,
    "_uuid": "9e59939faa20f3e0b12f634b80613fa4605ec25c"
   },
   "outputs": [],
   "source": [
    "fig1 = Figure_style(11, 5, 1, 1)\n",
    "fig1.pos_update(0, 0)\n",
    "\n",
    "color = ['r', 'b', 'g']\n",
    "label = ['delay < 2 days', '2 days < delay < 7 days', 'delay > 7 days']\n",
    "for j, colonne in enumerate(['delta_2days', 'delta_7days', 'delta_long']):\n",
    "    df0 = total_reserve[total_reserve[colonne] == 1]\n",
    "    df1 = df0[['date', 'reserve_visitors']].groupby('date').sum().reset_index()\n",
    "    fig1.cust_plot(df1['date'], df1['reserve_visitors'], linestyle='-', label = label[j], color = color[j])\n",
    "\n",
    "fig1.style() \n",
    "fig1.draw_legend(location = 'upper left')\n",
    "fig1.set_ylabel('Visitors', fontsize = 14)\n",
    "fig1.set_xlabel('Date', fontsize = 14)\n",
    "\n",
    "#limits\n",
    "date_1 = datetime.datetime(2017,2,1)\n",
    "date_2 = datetime.datetime(2017,5,31)\n",
    "fig1.set_xlim(date_1, date_2)\n",
    "fig1.set_ylim(-3, 3000)\n",
    "plt.show()"
   ]
  },
  {
   "cell_type": "markdown",
   "metadata": {
    "_cell_guid": "957576fd-4259-4596-91f4-d2d2a54b3d9c",
    "_uuid": "0780255d07d6228bffcfc67362ae7fc7a89f08ad"
   },
   "source": [
    "We can see that after April 22, the number of reservations starts to decline with time and after a few days, we don't have any information regarding the reservations made 2 days before the visit. In fact, after April 29, we don't have any info on the reservations made 7 days before the visit. Long term reservations are available for the test set, however their number tends to decrease with time.\n",
    "\n",
    "The above observations might be crucial to making predictions in the test set since the public leaderboard would correspond to April 23rd - April 28th period, for which we still have some info concerning the number of reservations. If we take number of reservations into account, then the our model should perform reasonably well on the public leaderboard. However after April 28, there's a severe lack of info on the number of reservations and our models should take this into consideration as well, otherwise it will perform decently on the public leaderboard and poorly on the private leaderboard."
   ]
  },
  {
   "cell_type": "code",
   "execution_count": null,
   "metadata": {
    "_cell_guid": "de54be51-6a93-4078-8263-71b8ae246486",
    "_uuid": "37530b82c48c358de678ef1f14dc56ac6cdfe067"
   },
   "outputs": [],
   "source": []
  }
 ],
 "metadata": {
  "kernelspec": {
   "display_name": "Python 3",
   "language": "python",
   "name": "python3"
  },
  "language_info": {
   "codemirror_mode": {
    "name": "ipython",
    "version": 3
   },
   "file_extension": ".py",
   "mimetype": "text/x-python",
   "name": "python",
   "nbconvert_exporter": "python",
   "pygments_lexer": "ipython3",
   "version": "3.7.9"
  }
 },
 "nbformat": 4,
 "nbformat_minor": 4
}
